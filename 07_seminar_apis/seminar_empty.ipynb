{
 "cells": [
  {
   "cell_type": "code",
   "execution_count": null,
   "id": "0fd3d9ba-9e92-483d-9c00-083bdbc09e39",
   "metadata": {
    "gather": {
     "logged": 1669639737806
    }
   },
   "outputs": [],
   "source": [
    "import requests\n",
    "import pandas as pd"
   ]
  },
  {
   "cell_type": "markdown",
   "id": "18e60b8d-adfe-4e54-888f-9b7c6eca04d3",
   "metadata": {
    "nteract": {
     "transient": {
      "deleting": false
     }
    }
   },
   "source": [
    "# App for directions to one of the closest bar\n",
    "\n",
    "* Address -> List of bars around\n",
    "* Selected bar -> Directions from given Address"
   ]
  },
  {
   "cell_type": "markdown",
   "id": "deaf796c-1f3d-42b3-85aa-f7bc31aa9f95",
   "metadata": {
    "nteract": {
     "transient": {
      "deleting": false
     }
    }
   },
   "source": [
    "### Task 1: Plan an app\n",
    "\n",
    "* Suggest moduls\n",
    "* Describe endpoints:\n",
    "    * input parameters\n",
    "    * output format\n"
   ]
  },
  {
   "cell_type": "markdown",
   "id": "8b31ee6d-d475-4619-841b-befbd7811601",
   "metadata": {
    "nteract": {
     "transient": {
      "deleting": false
     }
    }
   },
   "source": [
    "### Task 2: Function converting an address into GPS location\n",
    "\n",
    "* Use Openstreetmap [Nominatim API](https://nominatim.org/release-docs/develop/api/Search/)\n",
    "* Always use the first suggested address (think about the consequences!)\n",
    "* Return simple dictionary with `requested_address`, `full_adress`, `latitude`, `longitude` and the request `timestamp`\n",
    "* Bonus: Consider storing request data for later use, including some identification - IP adress, session_id, cookie, etc.\n",
    "* Hint: https://nominatim.openstreetmap.org/?q={requested_address}&format=json&limit=1"
   ]
  },
  {
   "cell_type": "code",
   "execution_count": null,
   "id": "ef6821fe-942c-4824-9e1d-7897863a372b",
   "metadata": {
    "gather": {
     "logged": 1669639743784
    }
   },
   "outputs": [],
   "source": [
    "def request_location(requested_address):\n",
    "    pass\n",
    "\n",
    "location = request_location('Opletalova 26, Praha')\n",
    "location"
   ]
  },
  {
   "cell_type": "markdown",
   "id": "5fa3a832-23ea-4dd9-836c-1494ffa29896",
   "metadata": {
    "nteract": {
     "transient": {
      "deleting": false
     }
    }
   },
   "source": [
    "### Task 3: Function with list of potential bars around\n",
    "\n",
    "* Use Openstreetmaps Overpass API. Look at [Overpass Turbo](https://overpass-turbo.eu/) for prototyping\n",
    "* Function accepting `radius`, `latitude` and `longitude` and returing list of dictionaries with `id` (inherited from OSM), `longitude`, `latitude` and `opening_hours`\n",
    "* Look at `pd.json_normalize` for parsing jsons into tables\n",
    "* Query hint: \n",
    "\n",
    "```python\n",
    "\n",
    "url_template = 'https://www.overpass-api.de/api/interpreter?data={overpass_query}out%20meta;'\n",
    "\n",
    "overpass_query = '''\n",
    "[out:json];\n",
    "nwr[amenity=\"{amenity_type}\"](around:{radius}, {latitude}, {longitude} );\n",
    "'''\n",
    "```"
   ]
  },
  {
   "cell_type": "code",
   "execution_count": null,
   "id": "16f756dc-214b-4f4f-848b-551cf30d09d3",
   "metadata": {
    "collapsed": false,
    "gather": {
     "logged": 1669641536739
    },
    "jupyter": {
     "outputs_hidden": false,
     "source_hidden": false
    },
    "nteract": {
     "transient": {
      "deleting": false
     }
    }
   },
   "outputs": [],
   "source": [
    "def list_of_bars(radius, latitude, longitude):\n",
    "    pass\n",
    "\n",
    "bars = list_of_bars(500, location['latitude'], location['longitude'])\n",
    "bars"
   ]
  },
  {
   "cell_type": "markdown",
   "id": "b0f95d85-90fb-4b1f-b50e-cccd27d4f999",
   "metadata": {
    "nteract": {
     "transient": {
      "deleting": false
     }
    }
   },
   "source": [
    "### Task 4: Function for directions to specified bar\n",
    "\n",
    "* bar specified using argument `bar_dict` expecting dictionary from Task 3\n",
    "* start location using argument `start_location` expecting a dictionary from Task 2\n",
    "* return list of dictionaries describing individual steps\n",
    "* Use openrouteservice.org API to get directions between two points\n",
    "* Hint: 'https://api.openrouteservice.org/v2/directions/foot-walking?api_key={api_key}&start={start_lng},{start_lat}&end={end_lng},{end_lat}'\n",
    "* Needed to generate an API_KEY - https://openrouteservice.org/dev/#/home\n",
    "* Store the API key outside of the GitHub repository - for simplicity use file `secret.py` with some expected structure. Do not forget to `.gitignore` this file.\n",
    "* Convert all steps from all segments from all features into a single table and label segments and features by its orders (look into JSON structure of a response to understand this requirement)\n",
    "* Hint: Use `pd.concat`, `enumerate` and `.assign` to achieve the last step\n",
    "\n"
   ]
  },
  {
   "cell_type": "code",
   "execution_count": null,
   "id": "b4dc37cd-42e1-48c1-9363-3330367d9266",
   "metadata": {
    "collapsed": false,
    "gather": {
     "logged": 1669642432154
    },
    "jupyter": {
     "outputs_hidden": false,
     "source_hidden": false
    },
    "nteract": {
     "transient": {
      "deleting": false
     }
    }
   },
   "outputs": [],
   "source": [
    "from secret import ORS_API_KEY\n",
    "\n",
    "def get_steps_to_bar(bar_dict, start_location):\n",
    "    pass\n",
    "get_steps_to_bar(bars[0], location)"
   ]
  },
  {
   "cell_type": "markdown",
   "id": "16a6a223-5fc9-4f13-8cb9-21fcf58a7ceb",
   "metadata": {
    "nteract": {
     "transient": {
      "deleting": false
     }
    }
   },
   "source": [
    "### Task 5: Convert into Flask App\n",
    "\n",
    "* resulting endpoints suggested below"
   ]
  },
  {
   "cell_type": "code",
   "execution_count": null,
   "id": "8f322c49-52cb-4092-9a2f-8260a302c145",
   "metadata": {
    "collapsed": false,
    "jupyter": {
     "outputs_hidden": false,
     "source_hidden": false
    },
    "nteract": {
     "transient": {
      "deleting": false
     }
    }
   },
   "outputs": [],
   "source": [
    "requested_loc = requests.get('http://localhost:5000/location/Opletalova+26,+Praha').json()\n",
    "requested_loc"
   ]
  },
  {
   "cell_type": "code",
   "execution_count": null,
   "id": "c227b701-c0e2-42ff-9297-8a228c173e2d",
   "metadata": {},
   "outputs": [],
   "source": [
    "bars = requests.get(f'http://localhost:5000/list_bars/{requested_loc[\"latitude\"]}/{requested_loc[\"longitude\"]}').json()\n",
    "bars"
   ]
  },
  {
   "cell_type": "code",
   "execution_count": null,
   "id": "cdf0cba5-dcea-4153-acc1-9baa4f8a43e3",
   "metadata": {},
   "outputs": [],
   "source": [
    "requests.post(f'http://localhost:5000/steps',json={'bar':bars[0],'location':requested_loc}).json()"
   ]
  }
 ],
 "metadata": {
  "kernel_info": {
   "name": "python38-azureml"
  },
  "kernelspec": {
   "display_name": "Python 3.8 - AzureML",
   "language": "python",
   "name": "python38-azureml"
  },
  "language_info": {
   "codemirror_mode": {
    "name": "ipython",
    "version": 3
   },
   "file_extension": ".py",
   "mimetype": "text/x-python",
   "name": "python",
   "nbconvert_exporter": "python",
   "pygments_lexer": "ipython3",
   "version": "3.8.5"
  },
  "microsoft": {
   "host": {
    "AzureML": {
     "notebookHasBeenCompleted": true
    }
   }
  },
  "nteract": {
   "version": "nteract-front-end@1.0.0"
  }
 },
 "nbformat": 4,
 "nbformat_minor": 5
}
