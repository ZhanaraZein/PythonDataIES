{
 "cells": [
  {
   "cell_type": "code",
   "execution_count": 2,
   "metadata": {},
   "outputs": [],
   "source": [
    "import requests"
   ]
  },
  {
   "cell_type": "markdown",
   "metadata": {},
   "source": [
    "# Advanced APIs and Flask \n",
    "April 26th 2022, Vítek, Inspired by MIT lecture: https://designftw.mit.edu/lectures/apis/index.html\n",
    "\n",
    "* So far, we have studied how to take advantage of existing data sources for your analysis/application.\n",
    "* But programming is about *exchange* of data.\n",
    "* You want to communicate with your users or other programs\n",
    "* Best way to communicate is using an your own interface: an API\n",
    "* We will also see how we can create our own webistes\n",
    "\n",
    "## Why do you set up an API (or a website)\n",
    "* Share access to your program with others\n",
    "* Share access to your data with others\n",
    "* Coordinate your application with other apps => **Microservice architecture**\n",
    "* Component developers can only cares about their jobs\n",
    "\n",
    "\n",
    "\n",
    "\n",
    "### Microservice architecture examples\n",
    "\n",
    "#### Videostreaming service\n",
    "![microservice architecture](./img/microservices.png)\n",
    "\n",
    "\n",
    "#### Golemio\n",
    "![golemio architecture](./img/golemio.png)\n",
    "\n",
    "\n",
    "\n",
    "\n",
    "## Examples of APIs\n",
    ">\n",
    "> Task: Suggest an API structure for Airbnb microservice architecture\n",
    "> * List endpoints and functional modules that do separate jobs\n",
    "> \n",
    "\n",
    "* [GOLEMIO API](https://operator-ict.gitlab.io/golemio/documentation/cs/architektura/architektura/)\n",
    "* GitHub API\n",
    "\n",
    "\n"
   ]
  },
  {
   "cell_type": "code",
   "execution_count": 3,
   "metadata": {},
   "outputs": [
    {
     "data": {
      "text/plain": [
       "{'id': 156419361,\n",
       " 'node_id': 'MDEwOlJlcG9zaXRvcnkxNTY0MTkzNjE=',\n",
       " 'name': 'PythonDataIES',\n",
       " 'full_name': 'vitekzkytek/PythonDataIES',\n",
       " 'private': False,\n",
       " 'owner': {'login': 'vitekzkytek',\n",
       "  'id': 7482296,\n",
       "  'node_id': 'MDQ6VXNlcjc0ODIyOTY=',\n",
       "  'avatar_url': 'https://avatars.githubusercontent.com/u/7482296?v=4',\n",
       "  'gravatar_id': '',\n",
       "  'url': 'https://api.github.com/users/vitekzkytek',\n",
       "  'html_url': 'https://github.com/vitekzkytek',\n",
       "  'followers_url': 'https://api.github.com/users/vitekzkytek/followers',\n",
       "  'following_url': 'https://api.github.com/users/vitekzkytek/following{/other_user}',\n",
       "  'gists_url': 'https://api.github.com/users/vitekzkytek/gists{/gist_id}',\n",
       "  'starred_url': 'https://api.github.com/users/vitekzkytek/starred{/owner}{/repo}',\n",
       "  'subscriptions_url': 'https://api.github.com/users/vitekzkytek/subscriptions',\n",
       "  'organizations_url': 'https://api.github.com/users/vitekzkytek/orgs',\n",
       "  'repos_url': 'https://api.github.com/users/vitekzkytek/repos',\n",
       "  'events_url': 'https://api.github.com/users/vitekzkytek/events{/privacy}',\n",
       "  'received_events_url': 'https://api.github.com/users/vitekzkytek/received_events',\n",
       "  'type': 'User',\n",
       "  'site_admin': False},\n",
       " 'html_url': 'https://github.com/vitekzkytek/PythonDataIES',\n",
       " 'description': 'The course site for the Data Processing in Python from IES',\n",
       " 'fork': False,\n",
       " 'url': 'https://api.github.com/repos/vitekzkytek/PythonDataIES',\n",
       " 'forks_url': 'https://api.github.com/repos/vitekzkytek/PythonDataIES/forks',\n",
       " 'keys_url': 'https://api.github.com/repos/vitekzkytek/PythonDataIES/keys{/key_id}',\n",
       " 'collaborators_url': 'https://api.github.com/repos/vitekzkytek/PythonDataIES/collaborators{/collaborator}',\n",
       " 'teams_url': 'https://api.github.com/repos/vitekzkytek/PythonDataIES/teams',\n",
       " 'hooks_url': 'https://api.github.com/repos/vitekzkytek/PythonDataIES/hooks',\n",
       " 'issue_events_url': 'https://api.github.com/repos/vitekzkytek/PythonDataIES/issues/events{/number}',\n",
       " 'events_url': 'https://api.github.com/repos/vitekzkytek/PythonDataIES/events',\n",
       " 'assignees_url': 'https://api.github.com/repos/vitekzkytek/PythonDataIES/assignees{/user}',\n",
       " 'branches_url': 'https://api.github.com/repos/vitekzkytek/PythonDataIES/branches{/branch}',\n",
       " 'tags_url': 'https://api.github.com/repos/vitekzkytek/PythonDataIES/tags',\n",
       " 'blobs_url': 'https://api.github.com/repos/vitekzkytek/PythonDataIES/git/blobs{/sha}',\n",
       " 'git_tags_url': 'https://api.github.com/repos/vitekzkytek/PythonDataIES/git/tags{/sha}',\n",
       " 'git_refs_url': 'https://api.github.com/repos/vitekzkytek/PythonDataIES/git/refs{/sha}',\n",
       " 'trees_url': 'https://api.github.com/repos/vitekzkytek/PythonDataIES/git/trees{/sha}',\n",
       " 'statuses_url': 'https://api.github.com/repos/vitekzkytek/PythonDataIES/statuses/{sha}',\n",
       " 'languages_url': 'https://api.github.com/repos/vitekzkytek/PythonDataIES/languages',\n",
       " 'stargazers_url': 'https://api.github.com/repos/vitekzkytek/PythonDataIES/stargazers',\n",
       " 'contributors_url': 'https://api.github.com/repos/vitekzkytek/PythonDataIES/contributors',\n",
       " 'subscribers_url': 'https://api.github.com/repos/vitekzkytek/PythonDataIES/subscribers',\n",
       " 'subscription_url': 'https://api.github.com/repos/vitekzkytek/PythonDataIES/subscription',\n",
       " 'commits_url': 'https://api.github.com/repos/vitekzkytek/PythonDataIES/commits{/sha}',\n",
       " 'git_commits_url': 'https://api.github.com/repos/vitekzkytek/PythonDataIES/git/commits{/sha}',\n",
       " 'comments_url': 'https://api.github.com/repos/vitekzkytek/PythonDataIES/comments{/number}',\n",
       " 'issue_comment_url': 'https://api.github.com/repos/vitekzkytek/PythonDataIES/issues/comments{/number}',\n",
       " 'contents_url': 'https://api.github.com/repos/vitekzkytek/PythonDataIES/contents/{+path}',\n",
       " 'compare_url': 'https://api.github.com/repos/vitekzkytek/PythonDataIES/compare/{base}...{head}',\n",
       " 'merges_url': 'https://api.github.com/repos/vitekzkytek/PythonDataIES/merges',\n",
       " 'archive_url': 'https://api.github.com/repos/vitekzkytek/PythonDataIES/{archive_format}{/ref}',\n",
       " 'downloads_url': 'https://api.github.com/repos/vitekzkytek/PythonDataIES/downloads',\n",
       " 'issues_url': 'https://api.github.com/repos/vitekzkytek/PythonDataIES/issues{/number}',\n",
       " 'pulls_url': 'https://api.github.com/repos/vitekzkytek/PythonDataIES/pulls{/number}',\n",
       " 'milestones_url': 'https://api.github.com/repos/vitekzkytek/PythonDataIES/milestones{/number}',\n",
       " 'notifications_url': 'https://api.github.com/repos/vitekzkytek/PythonDataIES/notifications{?since,all,participating}',\n",
       " 'labels_url': 'https://api.github.com/repos/vitekzkytek/PythonDataIES/labels{/name}',\n",
       " 'releases_url': 'https://api.github.com/repos/vitekzkytek/PythonDataIES/releases{/id}',\n",
       " 'deployments_url': 'https://api.github.com/repos/vitekzkytek/PythonDataIES/deployments',\n",
       " 'created_at': '2018-11-06T17:12:44Z',\n",
       " 'updated_at': '2022-11-01T05:47:03Z',\n",
       " 'pushed_at': '2022-11-17T19:48:43Z',\n",
       " 'git_url': 'git://github.com/vitekzkytek/PythonDataIES.git',\n",
       " 'ssh_url': 'git@github.com:vitekzkytek/PythonDataIES.git',\n",
       " 'clone_url': 'https://github.com/vitekzkytek/PythonDataIES.git',\n",
       " 'svn_url': 'https://github.com/vitekzkytek/PythonDataIES',\n",
       " 'homepage': None,\n",
       " 'size': 58047,\n",
       " 'stargazers_count': 34,\n",
       " 'watchers_count': 34,\n",
       " 'language': 'Jupyter Notebook',\n",
       " 'has_issues': True,\n",
       " 'has_projects': True,\n",
       " 'has_downloads': True,\n",
       " 'has_wiki': True,\n",
       " 'has_pages': True,\n",
       " 'has_discussions': False,\n",
       " 'forks_count': 123,\n",
       " 'mirror_url': None,\n",
       " 'archived': False,\n",
       " 'disabled': False,\n",
       " 'open_issues_count': 0,\n",
       " 'license': None,\n",
       " 'allow_forking': True,\n",
       " 'is_template': False,\n",
       " 'web_commit_signoff_required': False,\n",
       " 'topics': [],\n",
       " 'visibility': 'public',\n",
       " 'forks': 123,\n",
       " 'open_issues': 0,\n",
       " 'watchers': 34,\n",
       " 'default_branch': 'master',\n",
       " 'temp_clone_token': None,\n",
       " 'network_count': 123,\n",
       " 'subscribers_count': 28}"
      ]
     },
     "execution_count": 3,
     "metadata": {},
     "output_type": "execute_result"
    }
   ],
   "source": [
    "requests.get('https://api.github.com/repos/vitekzkytek/PythonDataIES').json()"
   ]
  },
  {
   "cell_type": "markdown",
   "metadata": {},
   "source": [
    "## API == `Application Programming Interface`\n",
    "* The way your code can ask the application/library/service to do things\n",
    "* The boundary of the application\n",
    "\n",
    "### Components:\n",
    "    * Data model\n",
    "    * Methods\n",
    "    * Syntax\n",
    "\n",
    "## HTTP\n",
    "* API for talking to web servers\n",
    "* Predefined structure\n",
    "* Main methods:\n",
    "    * GET\n",
    "    * POST\n",
    "    * DELETE\n",
    "    * PUT\n",
    "* see [CRUD](https://en.wikipedia.org/wiki/Create,_read,_update_and_delete)\n",
    "\n",
    "## Request and response structure\n",
    "### Request\n",
    "- long string with components. Serialization necessary.\n",
    "\n",
    "#### URL\n",
    "- identification of the resource\n",
    "- object your ask for\n",
    "- contains \n",
    "    * address (hostname) \n",
    "    * method identification (route) \n",
    "    * parameters\n",
    "    \n",
    "#### Headers\n",
    "- Referer: Identification of requester\n",
    "- Accept: Format of data - json, text, pdf, image, etc.\n",
    "- Cookie: User-specific data\n",
    "- Authentization: Security\n",
    "\n",
    "#### Body\n",
    "- Content of the request\n",
    "- not necessary\n",
    "\n",
    "### Response\n",
    "#### Status code\n",
    "- see [list](https://en.wikipedia.org/wiki/List_of_HTTP_status_codes)\n",
    "\n",
    "#### Body\n",
    "- Content of request\n",
    "\n",
    "## Why RESTful?\n",
    "* RESTful API is stateless\n",
    "* In the \"old way\" servers kept state of its users:\n",
    "    * their identity\n",
    "    * so far activity\n",
    "* Modern apps leaves emphemeral information on client's side - role of cookies\n",
    "* Server is just a server - for precise question gives precise answer.\n",
    "* Server only keeps **persistent** data - files, forms, etc.\n",
    "* Scalability\n",
    "* Performance\n",
    "* Managing code\n",
    "\n",
    "## Security\n",
    "* Privacy \n",
    "* Limited resources\n",
    "* Economic reasoning - selling data etc.\n",
    "* Always use HTTPs - encrypts communication\n",
    "\n",
    "### Authentization\n",
    "* Never in URLs - public information\n",
    "* Possibly using cookies - but again can be compromised/faked etc.\n",
    "* Sometimes authorization using standard user:password (HTTP Basic Auth header), perhaps hashed (HTTP Digest Auth)\n",
    "\n",
    "#### HTTP Bearer Auth\n",
    "* Using arbitrary string server can recognize\n",
    "    * Most often server also generates them\n",
    "    * But how to deliver to client ?\n",
    "* Decouples identity from authorization"
   ]
  },
  {
   "cell_type": "code",
   "execution_count": null,
   "metadata": {},
   "outputs": [],
   "source": [
    "endpoint, token = 'https:{hostname}/{route}','<FILLINHERE>'\n",
    "headers = {f\"Authorization\": \"Bearer {token}\"}\n",
    "requests.get(endpoint, headers=headers)"
   ]
  },
  {
   "cell_type": "markdown",
   "metadata": {},
   "source": [
    "## Flask examples"
   ]
  },
  {
   "cell_type": "code",
   "execution_count": 8,
   "metadata": {},
   "outputs": [
    {
     "data": {
      "text/plain": [
       "<Response [200]>"
      ]
     },
     "execution_count": 8,
     "metadata": {},
     "output_type": "execute_result"
    }
   ],
   "source": [
    "requests.get('http://www.google.com')"
   ]
  },
  {
   "cell_type": "markdown",
   "metadata": {},
   "source": [
    "## Deployment\n",
    "\n",
    "* Heroku - https://realpython.com/flask-by-example-part-1-project-setup/\n",
    "* AWS Lambda - https://towardsdatascience.com/deploy-a-python-api-on-aws-c8227b3799f0'\n",
    "* Use Serverless framework - https://faun.pub/aws-lambda-serverless-framework-python-part-1-a-step-by-step-hello-world-4182202aba4a\n",
    "* Use your own virtual machine anywhere and start learning Linux and Bash etc. You will need it anyway."
   ]
  },
  {
   "cell_type": "code",
   "execution_count": 10,
   "metadata": {},
   "outputs": [
    {
     "data": {
      "text/plain": [
       "'<!DOCTYPE HTML PUBLIC \"-//W3C//DTD HTML 3.2 Final//EN\">\\n<title>500 Internal Server Error</title>\\n<h1>Internal Server Error</h1>\\n<p>The server encountered an internal error and was unable to complete your request. Either the server is overloaded or there is an error in the application.</p>\\n'"
      ]
     },
     "execution_count": 10,
     "metadata": {},
     "output_type": "execute_result"
    }
   ],
   "source": [
    "requests.get('http://127.0.0.1:5000/').text"
   ]
  },
  {
   "cell_type": "code",
   "execution_count": null,
   "metadata": {},
   "outputs": [],
   "source": []
  }
 ],
 "metadata": {
  "interpreter": {
   "hash": "469d7ba629a2f236b3e79931835a1b75b57051073bcc41a870369fa1f32184d9"
  },
  "kernelspec": {
   "display_name": "Python 3 (ipykernel)",
   "language": "python",
   "name": "python3"
  },
  "language_info": {
   "codemirror_mode": {
    "name": "ipython",
    "version": 3
   },
   "file_extension": ".py",
   "mimetype": "text/x-python",
   "name": "python",
   "nbconvert_exporter": "python",
   "pygments_lexer": "ipython3",
   "version": "3.8.5"
  }
 },
 "nbformat": 4,
 "nbformat_minor": 4
}
